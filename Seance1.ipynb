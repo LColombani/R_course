{
 "cells": [
  {
   "cell_type": "markdown",
   "id": "39bb00bf",
   "metadata": {},
   "source": [
    "# Première séance: TD 0 Statistiques étonnantes"
   ]
  },
  {
   "cell_type": "markdown",
   "id": "1994d929",
   "metadata": {},
   "source": [
    "## Exercice 1"
   ]
  },
  {
   "cell_type": "markdown",
   "id": "4ffb307b",
   "metadata": {},
   "source": [
    "<table>\n",
    "    <thead>\n",
    "        <tr>\n",
    "            <td>Nombre d'enfants</td>\n",
    "            <td>1</td>\n",
    "            <td>2</td>\n",
    "            <td>3</td>\n",
    "            <td>4</td>\n",
    "            <td>5</td>\n",
    "            <td>6</td>\n",
    "            <td>7 (ou plus)</td>\n",
    "        </tr>\n",
    "    </thead>\n",
    "    <tbody>\n",
    "        <tr>\n",
    "            <td>Nombre de familles</td>\n",
    "            <td>438</td>\n",
    "            <td>366</td>\n",
    "            <td>142</td>\n",
    "            <td>21</td>\n",
    "            <td>18</td>\n",
    "            <td>12</td>\n",
    "            <td>3</td>\n",
    "        </tr>\n",
    "    </tbody>\n",
    "</table>"
   ]
  },
  {
   "cell_type": "markdown",
   "id": "8c0dec93",
   "metadata": {},
   "source": [
    "On définit le tableau de données pour R. Les c() permettent de créer des listes, et le data.frame regroupe les listes pour en faire un tableau."
   ]
  },
  {
   "cell_type": "code",
   "execution_count": 2,
   "id": "ee39590d",
   "metadata": {},
   "outputs": [],
   "source": [
    "liste_enfant= c(1,2,3,4,5,6,7)\n",
    "liste_famille = c(438,366,142,21,18,12,3)"
   ]
  },
  {
   "cell_type": "code",
   "execution_count": 5,
   "id": "3dc2a366",
   "metadata": {},
   "outputs": [],
   "source": [
    "datas = data.frame(Enfants = liste_enfant, Familles = liste_famille)"
   ]
  },
  {
   "cell_type": "markdown",
   "id": "2cf6a855",
   "metadata": {},
   "source": [
    "On vérifie ce qu'on a entré dans le data avec $. "
   ]
  },
  {
   "cell_type": "markdown",
   "id": "c019d27a",
   "metadata": {},
   "source": [
    "datas$Enfants redonne la liste des enfants. "
   ]
  },
  {
   "cell_type": "code",
   "execution_count": 4,
   "id": "b6e471ce",
   "metadata": {},
   "outputs": [
    {
     "data": {
      "text/html": [
       "<ol class=list-inline>\n",
       "\t<li>1</li>\n",
       "\t<li>2</li>\n",
       "\t<li>3</li>\n",
       "\t<li>4</li>\n",
       "\t<li>5</li>\n",
       "\t<li>6</li>\n",
       "\t<li>7</li>\n",
       "</ol>\n"
      ],
      "text/latex": [
       "\\begin{enumerate*}\n",
       "\\item 1\n",
       "\\item 2\n",
       "\\item 3\n",
       "\\item 4\n",
       "\\item 5\n",
       "\\item 6\n",
       "\\item 7\n",
       "\\end{enumerate*}\n"
      ],
      "text/markdown": [
       "1. 1\n",
       "2. 2\n",
       "3. 3\n",
       "4. 4\n",
       "5. 5\n",
       "6. 6\n",
       "7. 7\n",
       "\n",
       "\n"
      ],
      "text/plain": [
       "[1] 1 2 3 4 5 6 7"
      ]
     },
     "metadata": {},
     "output_type": "display_data"
    }
   ],
   "source": [
    "datas$Enfants"
   ]
  },
  {
   "cell_type": "code",
   "execution_count": 6,
   "id": "4997b805",
   "metadata": {},
   "outputs": [
    {
     "data": {
      "text/html": [
       "<ol class=list-inline>\n",
       "\t<li>438</li>\n",
       "\t<li>366</li>\n",
       "\t<li>142</li>\n",
       "\t<li>21</li>\n",
       "\t<li>18</li>\n",
       "\t<li>12</li>\n",
       "\t<li>3</li>\n",
       "</ol>\n"
      ],
      "text/latex": [
       "\\begin{enumerate*}\n",
       "\\item 438\n",
       "\\item 366\n",
       "\\item 142\n",
       "\\item 21\n",
       "\\item 18\n",
       "\\item 12\n",
       "\\item 3\n",
       "\\end{enumerate*}\n"
      ],
      "text/markdown": [
       "1. 438\n",
       "2. 366\n",
       "3. 142\n",
       "4. 21\n",
       "5. 18\n",
       "6. 12\n",
       "7. 3\n",
       "\n",
       "\n"
      ],
      "text/plain": [
       "[1] 438 366 142  21  18  12   3"
      ]
     },
     "metadata": {},
     "output_type": "display_data"
    }
   ],
   "source": [
    "datas$Familles"
   ]
  },
  {
   "cell_type": "markdown",
   "id": "8645bd30",
   "metadata": {},
   "source": [
    "On cherche maintenant à calculer la moyenne d'enfants par famille. Pour cela, on peut soit calculer: \n",
    "$(1 * 438 + 2 * 366 + 3*142+4*21+5*18+6*12+7*3)/1000$: "
   ]
  },
  {
   "cell_type": "code",
   "execution_count": 7,
   "id": "59996cc8",
   "metadata": {},
   "outputs": [
    {
     "data": {
      "text/html": [
       "1.863"
      ],
      "text/latex": [
       "1.863"
      ],
      "text/markdown": [
       "1.863"
      ],
      "text/plain": [
       "[1] 1.863"
      ]
     },
     "metadata": {},
     "output_type": "display_data"
    }
   ],
   "source": [
    "(1 * 438 + 2 * 366 + 3*142+4*21+5*18+6*12+7*3)/1000"
   ]
  },
  {
   "cell_type": "markdown",
   "id": "f31601b4",
   "metadata": {},
   "source": [
    "Soit calculer avec les listes:"
   ]
  },
  {
   "cell_type": "code",
   "execution_count": 9,
   "id": "53ab80d9",
   "metadata": {},
   "outputs": [
    {
     "data": {
      "text/html": [
       "<ol class=list-inline>\n",
       "\t<li>438</li>\n",
       "\t<li>732</li>\n",
       "\t<li>426</li>\n",
       "\t<li>84</li>\n",
       "\t<li>90</li>\n",
       "\t<li>72</li>\n",
       "\t<li>21</li>\n",
       "</ol>\n"
      ],
      "text/latex": [
       "\\begin{enumerate*}\n",
       "\\item 438\n",
       "\\item 732\n",
       "\\item 426\n",
       "\\item 84\n",
       "\\item 90\n",
       "\\item 72\n",
       "\\item 21\n",
       "\\end{enumerate*}\n"
      ],
      "text/markdown": [
       "1. 438\n",
       "2. 732\n",
       "3. 426\n",
       "4. 84\n",
       "5. 90\n",
       "6. 72\n",
       "7. 21\n",
       "\n",
       "\n"
      ],
      "text/plain": [
       "[1] 438 732 426  84  90  72  21"
      ]
     },
     "metadata": {},
     "output_type": "display_data"
    }
   ],
   "source": [
    "liste_produit = liste_enfant * liste_famille\n",
    "liste_produit"
   ]
  },
  {
   "cell_type": "code",
   "execution_count": 11,
   "id": "4ac1ae62",
   "metadata": {},
   "outputs": [
    {
     "data": {
      "text/html": [
       "1.863"
      ],
      "text/latex": [
       "1.863"
      ],
      "text/markdown": [
       "1.863"
      ],
      "text/plain": [
       "[1] 1.863"
      ]
     },
     "metadata": {},
     "output_type": "display_data"
    }
   ],
   "source": [
    "moyenne = sum(liste_produit)/1000\n",
    "moyenne"
   ]
  },
  {
   "cell_type": "markdown",
   "id": "2d3df0e6",
   "metadata": {},
   "source": [
    "Pour voir la moyenne \"côté enfant\", on fait le nouveau calcul d'effectif: on a 7 * 3 enfants qui répondent qu'ils sont 7 dans leur famille. On obtient donc le tableau suivant: "
   ]
  },
  {
   "cell_type": "markdown",
   "id": "e6be3577",
   "metadata": {},
   "source": [
    "<table>\n",
    "    <thead>\n",
    "        <tr>\n",
    "            <td>Nombre d'enfants</td>\n",
    "            <td>1</td>\n",
    "            <td>2</td>\n",
    "            <td>3</td>\n",
    "            <td>4</td>\n",
    "            <td>5</td>\n",
    "            <td>6</td>\n",
    "            <td>7 (ou plus)</td>\n",
    "        </tr>\n",
    "    </thead>\n",
    "    <tbody>\n",
    "        <tr>\n",
    "            <td>Nombre de familles</td>\n",
    "            <td>438 *1</td>\n",
    "            <td>366 *2</td>\n",
    "            <td>142 *3</td>\n",
    "            <td>21 *4</td>\n",
    "            <td>18 *5</td>\n",
    "            <td>12 *6</td>\n",
    "            <td>3 *7</td>\n",
    "        </tr>\n",
    "    </tbody>\n",
    "</table>"
   ]
  },
  {
   "cell_type": "code",
   "execution_count": 12,
   "id": "5aff938d",
   "metadata": {},
   "outputs": [
    {
     "data": {
      "text/html": [
       "<table>\n",
       "<thead><tr><th scope=col>Enfants</th><th scope=col>Effectif</th></tr></thead>\n",
       "<tbody>\n",
       "\t<tr><td>1  </td><td>438</td></tr>\n",
       "\t<tr><td>2  </td><td>732</td></tr>\n",
       "\t<tr><td>3  </td><td>426</td></tr>\n",
       "\t<tr><td>4  </td><td> 84</td></tr>\n",
       "\t<tr><td>5  </td><td> 90</td></tr>\n",
       "\t<tr><td>6  </td><td> 72</td></tr>\n",
       "\t<tr><td>7  </td><td> 21</td></tr>\n",
       "</tbody>\n",
       "</table>\n"
      ],
      "text/latex": [
       "\\begin{tabular}{r|ll}\n",
       " Enfants & Effectif\\\\\n",
       "\\hline\n",
       "\t 1   & 438\\\\\n",
       "\t 2   & 732\\\\\n",
       "\t 3   & 426\\\\\n",
       "\t 4   &  84\\\\\n",
       "\t 5   &  90\\\\\n",
       "\t 6   &  72\\\\\n",
       "\t 7   &  21\\\\\n",
       "\\end{tabular}\n"
      ],
      "text/markdown": [
       "\n",
       "| Enfants | Effectif |\n",
       "|---|---|\n",
       "| 1   | 438 |\n",
       "| 2   | 732 |\n",
       "| 3   | 426 |\n",
       "| 4   |  84 |\n",
       "| 5   |  90 |\n",
       "| 6   |  72 |\n",
       "| 7   |  21 |\n",
       "\n"
      ],
      "text/plain": [
       "  Enfants Effectif\n",
       "1 1       438     \n",
       "2 2       732     \n",
       "3 3       426     \n",
       "4 4        84     \n",
       "5 5        90     \n",
       "6 6        72     \n",
       "7 7        21     "
      ]
     },
     "metadata": {},
     "output_type": "display_data"
    }
   ],
   "source": [
    "liste_effectif = liste_enfant * liste_famille\n",
    "nouveau_data = data.frame(Enfants = liste_enfant, Effectif = liste_effectif)\n",
    "nouveau_data"
   ]
  },
  {
   "cell_type": "code",
   "execution_count": 16,
   "id": "2842d29b",
   "metadata": {},
   "outputs": [
    {
     "data": {
      "text/html": [
       "2.43961352657005"
      ],
      "text/latex": [
       "2.43961352657005"
      ],
      "text/markdown": [
       "2.43961352657005"
      ],
      "text/plain": [
       "[1] 2.439614"
      ]
     },
     "metadata": {},
     "output_type": "display_data"
    }
   ],
   "source": [
    "liste_produit = liste_enfant * liste_effectif\n",
    "moyenne = sum(liste_produit)/sum(liste_effectif)\n",
    "moyenne"
   ]
  },
  {
   "cell_type": "markdown",
   "id": "5e595e81",
   "metadata": {},
   "source": [
    "## Exercice 2: "
   ]
  },
  {
   "cell_type": "markdown",
   "id": "f00355ec",
   "metadata": {},
   "source": [
    "On considère la population générale, avec un effectif de 100000 personnes. "
   ]
  },
  {
   "cell_type": "code",
   "execution_count": 3,
   "id": "e174801c",
   "metadata": {},
   "outputs": [
    {
     "data": {
      "text/html": [
       "<table class=\"dataframe\">\n",
       "<caption>A data.frame: 12 × 2</caption>\n",
       "<thead>\n",
       "\t<tr><th scope=col>Age</th><th scope=col>Effectif</th></tr>\n",
       "\t<tr><th scope=col>&lt;dbl&gt;</th><th scope=col>&lt;dbl&gt;</th></tr>\n",
       "</thead>\n",
       "<tbody>\n",
       "\t<tr><td>  0</td><td>  360</td></tr>\n",
       "\t<tr><td>  2</td><td>   70</td></tr>\n",
       "\t<tr><td> 10</td><td>   91</td></tr>\n",
       "\t<tr><td> 20</td><td>  391</td></tr>\n",
       "\t<tr><td> 30</td><td>  613</td></tr>\n",
       "\t<tr><td> 40</td><td> 1246</td></tr>\n",
       "\t<tr><td> 50</td><td> 3210</td></tr>\n",
       "\t<tr><td> 60</td><td> 6536</td></tr>\n",
       "\t<tr><td> 70</td><td>11534</td></tr>\n",
       "\t<tr><td> 80</td><td>25156</td></tr>\n",
       "\t<tr><td> 90</td><td>38360</td></tr>\n",
       "\t<tr><td>100</td><td>12433</td></tr>\n",
       "</tbody>\n",
       "</table>\n"
      ],
      "text/latex": [
       "A data.frame: 12 × 2\n",
       "\\begin{tabular}{ll}\n",
       " Age & Effectif\\\\\n",
       " <dbl> & <dbl>\\\\\n",
       "\\hline\n",
       "\t   0 &   360\\\\\n",
       "\t   2 &    70\\\\\n",
       "\t  10 &    91\\\\\n",
       "\t  20 &   391\\\\\n",
       "\t  30 &   613\\\\\n",
       "\t  40 &  1246\\\\\n",
       "\t  50 &  3210\\\\\n",
       "\t  60 &  6536\\\\\n",
       "\t  70 & 11534\\\\\n",
       "\t  80 & 25156\\\\\n",
       "\t  90 & 38360\\\\\n",
       "\t 100 & 12433\\\\\n",
       "\\end{tabular}\n"
      ],
      "text/markdown": [
       "\n",
       "A data.frame: 12 × 2\n",
       "\n",
       "| Age &lt;dbl&gt; | Effectif &lt;dbl&gt; |\n",
       "|---|---|\n",
       "|   0 |   360 |\n",
       "|   2 |    70 |\n",
       "|  10 |    91 |\n",
       "|  20 |   391 |\n",
       "|  30 |   613 |\n",
       "|  40 |  1246 |\n",
       "|  50 |  3210 |\n",
       "|  60 |  6536 |\n",
       "|  70 | 11534 |\n",
       "|  80 | 25156 |\n",
       "|  90 | 38360 |\n",
       "| 100 | 12433 |\n",
       "\n"
      ],
      "text/plain": [
       "   Age Effectif\n",
       "1    0   360   \n",
       "2    2    70   \n",
       "3   10    91   \n",
       "4   20   391   \n",
       "5   30   613   \n",
       "6   40  1246   \n",
       "7   50  3210   \n",
       "8   60  6536   \n",
       "9   70 11534   \n",
       "10  80 25156   \n",
       "11  90 38360   \n",
       "12 100 12433   "
      ]
     },
     "metadata": {},
     "output_type": "display_data"
    }
   ],
   "source": [
    "pop_generale_mortalite = data.frame(Age = c(0,2, 10, 20, 30, 40, 50, 60, 70, 80, 90, 100), \n",
    "                                   Effectif = c(360, 70, 91, 391, 613, 1246, 3210, 6536, 11534, 25156, 38360, 12433))\n",
    "pop_generale_mortalite"
   ]
  },
  {
   "cell_type": "markdown",
   "id": "1c5ef07c",
   "metadata": {},
   "source": [
    "On considère la sous-population des médecins, composée de 334 personnes. "
   ]
  },
  {
   "cell_type": "code",
   "execution_count": 4,
   "id": "92ac5157",
   "metadata": {
    "tags": []
   },
   "outputs": [
    {
     "data": {
      "text/html": [
       "<table class=\"dataframe\">\n",
       "<caption>A data.frame: 12 × 2</caption>\n",
       "<thead>\n",
       "\t<tr><th scope=col>Age</th><th scope=col>Effectif</th></tr>\n",
       "\t<tr><th scope=col>&lt;dbl&gt;</th><th scope=col>&lt;dbl&gt;</th></tr>\n",
       "</thead>\n",
       "<tbody>\n",
       "\t<tr><td>  0</td><td>  0</td></tr>\n",
       "\t<tr><td>  2</td><td>  0</td></tr>\n",
       "\t<tr><td> 10</td><td>  0</td></tr>\n",
       "\t<tr><td> 20</td><td>  0</td></tr>\n",
       "\t<tr><td> 30</td><td>  2</td></tr>\n",
       "\t<tr><td> 40</td><td>  4</td></tr>\n",
       "\t<tr><td> 50</td><td> 11</td></tr>\n",
       "\t<tr><td> 60</td><td> 22</td></tr>\n",
       "\t<tr><td> 70</td><td> 39</td></tr>\n",
       "\t<tr><td> 80</td><td> 85</td></tr>\n",
       "\t<tr><td> 90</td><td>129</td></tr>\n",
       "\t<tr><td>100</td><td> 42</td></tr>\n",
       "</tbody>\n",
       "</table>\n"
      ],
      "text/latex": [
       "A data.frame: 12 × 2\n",
       "\\begin{tabular}{ll}\n",
       " Age & Effectif\\\\\n",
       " <dbl> & <dbl>\\\\\n",
       "\\hline\n",
       "\t   0 &   0\\\\\n",
       "\t   2 &   0\\\\\n",
       "\t  10 &   0\\\\\n",
       "\t  20 &   0\\\\\n",
       "\t  30 &   2\\\\\n",
       "\t  40 &   4\\\\\n",
       "\t  50 &  11\\\\\n",
       "\t  60 &  22\\\\\n",
       "\t  70 &  39\\\\\n",
       "\t  80 &  85\\\\\n",
       "\t  90 & 129\\\\\n",
       "\t 100 &  42\\\\\n",
       "\\end{tabular}\n"
      ],
      "text/markdown": [
       "\n",
       "A data.frame: 12 × 2\n",
       "\n",
       "| Age &lt;dbl&gt; | Effectif &lt;dbl&gt; |\n",
       "|---|---|\n",
       "|   0 |   0 |\n",
       "|   2 |   0 |\n",
       "|  10 |   0 |\n",
       "|  20 |   0 |\n",
       "|  30 |   2 |\n",
       "|  40 |   4 |\n",
       "|  50 |  11 |\n",
       "|  60 |  22 |\n",
       "|  70 |  39 |\n",
       "|  80 |  85 |\n",
       "|  90 | 129 |\n",
       "| 100 |  42 |\n",
       "\n"
      ],
      "text/plain": [
       "   Age Effectif\n",
       "1    0   0     \n",
       "2    2   0     \n",
       "3   10   0     \n",
       "4   20   0     \n",
       "5   30   2     \n",
       "6   40   4     \n",
       "7   50  11     \n",
       "8   60  22     \n",
       "9   70  39     \n",
       "10  80  85     \n",
       "11  90 129     \n",
       "12 100  42     "
      ]
     },
     "metadata": {},
     "output_type": "display_data"
    }
   ],
   "source": [
    "pop_med_mortalite= data.frame(Age = c(0,2, 10, 20, 30, 40, 50, 60, 70, 80, 90, 100),\n",
    "                              Effectif = c(0,0,0,0,2, 4, 11, 22, 39, 85, 129, 42))\n",
    "pop_med_mortalite"
   ]
  },
  {
   "cell_type": "markdown",
   "id": "be8ab3a8",
   "metadata": {},
   "source": [
    "On calcule maintenant la moyenne pour la population générale (l'espérance de vie): \n",
    "$$\\frac{\\sum_{i=1}^n \\text{age} * \\text{effectif} }{n}$$"
   ]
  },
  {
   "cell_type": "code",
   "execution_count": 22,
   "id": "91f55e30",
   "metadata": {},
   "outputs": [
    {
     "data": {
      "text/html": [
       "81.4532"
      ],
      "text/latex": [
       "81.4532"
      ],
      "text/markdown": [
       "81.4532"
      ],
      "text/plain": [
       "[1] 81.4532"
      ]
     },
     "metadata": {},
     "output_type": "display_data"
    }
   ],
   "source": [
    "moyenne_generale = sum(pop_generale_mortalite$Age * pop_generale_mortalite$Effectif)/100000\n",
    "moyenne_generale"
   ]
  },
  {
   "cell_type": "markdown",
   "id": "1d4030e0",
   "metadata": {},
   "source": [
    "On calcule de la même manière la moyenne pour la population de médecin: "
   ]
  },
  {
   "cell_type": "code",
   "execution_count": 23,
   "id": "25b7f607",
   "metadata": {},
   "outputs": [
    {
     "data": {
      "text/html": [
       "82.125748502994"
      ],
      "text/latex": [
       "82.125748502994"
      ],
      "text/markdown": [
       "82.125748502994"
      ],
      "text/plain": [
       "[1] 82.12575"
      ]
     },
     "metadata": {},
     "output_type": "display_data"
    }
   ],
   "source": [
    "moyenne_med = sum(pop_med_mortalite$Age * pop_med_mortalite$Effectif)/334\n",
    "moyenne_med"
   ]
  },
  {
   "cell_type": "markdown",
   "id": "a110c97a",
   "metadata": {},
   "source": [
    "On peut faire un diagramme en barres pour comparer ce qu'il se passe. D'abord, on fait un grand tableau des effectifs (quand 360 individus meurent dans la population à \"0 ans\", 0 médecins meurent à \"0 ans\") "
   ]
  },
  {
   "cell_type": "code",
   "execution_count": 5,
   "id": "d77a50fd",
   "metadata": {},
   "outputs": [
    {
     "data": {
      "text/html": [
       "<table class=\"dataframe\">\n",
       "<caption>A matrix: 2 × 12 of type dbl</caption>\n",
       "<thead>\n",
       "\t<tr><th scope=col>0</th><th scope=col>2</th><th scope=col>10</th><th scope=col>20</th><th scope=col>30</th><th scope=col>40</th><th scope=col>50</th><th scope=col>60</th><th scope=col>70</th><th scope=col>80</th><th scope=col>90</th><th scope=col>100</th></tr>\n",
       "</thead>\n",
       "<tbody>\n",
       "\t<tr><td>0.0036</td><td>7e-04</td><td>0.00091</td><td>0.00391</td><td>0.006130000</td><td>0.01246000</td><td>0.03210000</td><td>0.06536000</td><td>0.1153400</td><td>0.251560</td><td>0.3836000</td><td>0.1243300</td></tr>\n",
       "\t<tr><td>0.0000</td><td>0e+00</td><td>0.00000</td><td>0.00000</td><td>0.005988024</td><td>0.01197605</td><td>0.03293413</td><td>0.06586826</td><td>0.1167665</td><td>0.254491</td><td>0.3862275</td><td>0.1257485</td></tr>\n",
       "</tbody>\n",
       "</table>\n"
      ],
      "text/latex": [
       "A matrix: 2 × 12 of type dbl\n",
       "\\begin{tabular}{llllllllllll}\n",
       " 0 & 2 & 10 & 20 & 30 & 40 & 50 & 60 & 70 & 80 & 90 & 100\\\\\n",
       "\\hline\n",
       "\t 0.0036 & 7e-04 & 0.00091 & 0.00391 & 0.006130000 & 0.01246000 & 0.03210000 & 0.06536000 & 0.1153400 & 0.251560 & 0.3836000 & 0.1243300\\\\\n",
       "\t 0.0000 & 0e+00 & 0.00000 & 0.00000 & 0.005988024 & 0.01197605 & 0.03293413 & 0.06586826 & 0.1167665 & 0.254491 & 0.3862275 & 0.1257485\\\\\n",
       "\\end{tabular}\n"
      ],
      "text/markdown": [
       "\n",
       "A matrix: 2 × 12 of type dbl\n",
       "\n",
       "| 0 | 2 | 10 | 20 | 30 | 40 | 50 | 60 | 70 | 80 | 90 | 100 |\n",
       "|---|---|---|---|---|---|---|---|---|---|---|---|\n",
       "| 0.0036 | 7e-04 | 0.00091 | 0.00391 | 0.006130000 | 0.01246000 | 0.03210000 | 0.06536000 | 0.1153400 | 0.251560 | 0.3836000 | 0.1243300 |\n",
       "| 0.0000 | 0e+00 | 0.00000 | 0.00000 | 0.005988024 | 0.01197605 | 0.03293413 | 0.06586826 | 0.1167665 | 0.254491 | 0.3862275 | 0.1257485 |\n",
       "\n"
      ],
      "text/plain": [
       "     0      2     10      20      30          40         50         60        \n",
       "[1,] 0.0036 7e-04 0.00091 0.00391 0.006130000 0.01246000 0.03210000 0.06536000\n",
       "[2,] 0.0000 0e+00 0.00000 0.00000 0.005988024 0.01197605 0.03293413 0.06586826\n",
       "     70        80       90        100      \n",
       "[1,] 0.1153400 0.251560 0.3836000 0.1243300\n",
       "[2,] 0.1167665 0.254491 0.3862275 0.1257485"
      ]
     },
     "metadata": {},
     "output_type": "display_data"
    }
   ],
   "source": [
    "frequence_generale= pop_generale_mortalite$Effectif/100000\n",
    "frequence_med = pop_med_mortalite$Effectif/334\n",
    "\n",
    "donnees_totales=t(matrix(c(frequence_generale, frequence_med ),\n",
    "                        nc = 2))\n",
    "colnames(donnees_totales) <- c('0','2', '10', '20', '30', '40', '50', '60', '70', '80', '90', '100')\n",
    "donnees_totales"
   ]
  },
  {
   "cell_type": "code",
   "execution_count": 14,
   "id": "40685cbe",
   "metadata": {
    "tags": []
   },
   "outputs": [
    {
     "data": {
      "image/png": "[encoded data removed]",
      "text/plain": [
       "plot without title"
      ]
     },
     "metadata": {
      "image/png": {
       "height": 480,
       "width": 960
      }
     },
     "output_type": "display_data"
    }
   ],
   "source": [
    "options(repr.plot.width = 16, repr.plot.height = 8) # Ne pas s'occuper de cette ligne, c'est juste un paramètre d'affichage\n",
    "barplot(donnees_totales,beside=T, col=c(\"Gold\", \"Red\") , xlab=\"Ages\", ylab=\"Fréquence\", ylim=c(0, 0.45), \n",
    "        legend.text = c(\"Population generale\",\"Medecins\"),args.legend=list(x=\"topleft\"))"
   ]
  },
  {
   "cell_type": "code",
   "execution_count": null,
   "id": "769bc873",
   "metadata": {},
   "outputs": [],
   "source": []
  },
  {
   "cell_type": "code",
   "execution_count": null,
   "id": "fa685051",
   "metadata": {},
   "outputs": [],
   "source": []
  },
  {
   "cell_type": "code",
   "execution_count": null,
   "id": "40b83c90",
   "metadata": {},
   "outputs": [],
   "source": []
  },
  {
   "cell_type": "code",
   "execution_count": null,
   "id": "c9aa4d0e",
   "metadata": {},
   "outputs": [],
   "source": [
    "\n"
   ]
  },
  {
   "cell_type": "code",
   "execution_count": null,
   "id": "135107c7",
   "metadata": {},
   "outputs": [],
   "source": []
  },
  {
   "cell_type": "code",
   "execution_count": null,
   "id": "6c39df1c",
   "metadata": {},
   "outputs": [],
   "source": []
  }
 ],
 "metadata": {
  "kernelspec": {
   "display_name": "R",
   "language": "R",
   "name": "ir"
  },
  "language_info": {
   "codemirror_mode": "r",
   "file_extension": ".r",
   "mimetype": "text/x-r-source",
   "name": "R",
   "pygments_lexer": "r",
   "version": "4.1.2"
  }
 },
 "nbformat": 4,
 "nbformat_minor": 5
}
