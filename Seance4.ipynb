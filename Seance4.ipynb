{
 "cells": [
  {
   "cell_type": "markdown",
   "id": "5fc17bef-0dce-4daf-bcb5-5be0428b83d6",
   "metadata": {},
   "source": [
    "# Quatrième séance"
   ]
  },
  {
   "cell_type": "markdown",
   "id": "92767038-b6f2-4a2c-8b9d-c62762421855",
   "metadata": {},
   "source": [
    "## TD1: Exercice 5"
   ]
  },
  {
   "cell_type": "code",
   "execution_count": 1,
   "id": "40158b0c-9645-4856-a26b-cf9097c3a832",
   "metadata": {},
   "outputs": [],
   "source": [
    "liste_wind = c(8.9, 12.4, 8.6, 11.3, 9.2, 8.8, 6.2, 7.0,\n",
    "               7.1, 11.8, 10.7, 7.6, 9.1, 9.2, 8.2, 9.0, 8.7, 9.1, \n",
    "               10.9, 10.3, 9.6, 7.8, 11.5, 9.3, 7.9, 8.8, 8.8,\n",
    "               12.7, 8.4, 7.8, 5.7, 10.5, 10.5, 9.6, 8.9,\n",
    "               10.2, 10.3, 7.7, 10.6, 8.3, 8.8, 9.5, 8.8, 9.4)"
   ]
  },
  {
   "cell_type": "code",
   "execution_count": 2,
   "id": "b8a74845-6442-4855-9dc0-eba2597df21c",
   "metadata": {},
   "outputs": [
    {
     "data": {
      "text/html": [
       "<style>\n",
       ".list-inline {list-style: none; margin:0; padding: 0}\n",
       ".list-inline>li {display: inline-block}\n",
       ".list-inline>li:not(:last-child)::after {content: \"\\00b7\"; padding: 0 .5ex}\n",
       "</style>\n",
       "<ol class=list-inline><li>5.7</li><li>6.2</li><li>7</li><li>7.1</li><li>7.6</li><li>7.7</li><li>7.8</li><li>7.8</li><li>7.9</li><li>8.2</li><li>8.3</li><li>8.4</li><li>8.6</li><li>8.7</li><li>8.8</li><li>8.8</li><li>8.8</li><li>8.8</li><li>8.8</li><li>8.9</li><li>8.9</li><li>9</li><li>9.1</li><li>9.1</li><li>9.2</li><li>9.2</li><li>9.3</li><li>9.4</li><li>9.5</li><li>9.6</li><li>9.6</li><li>10.2</li><li>10.3</li><li>10.3</li><li>10.5</li><li>10.5</li><li>10.6</li><li>10.7</li><li>10.9</li><li>11.3</li><li>11.5</li><li>11.8</li><li>12.4</li><li>12.7</li></ol>\n"
      ],
      "text/latex": [
       "\\begin{enumerate*}\n",
       "\\item 5.7\n",
       "\\item 6.2\n",
       "\\item 7\n",
       "\\item 7.1\n",
       "\\item 7.6\n",
       "\\item 7.7\n",
       "\\item 7.8\n",
       "\\item 7.8\n",
       "\\item 7.9\n",
       "\\item 8.2\n",
       "\\item 8.3\n",
       "\\item 8.4\n",
       "\\item 8.6\n",
       "\\item 8.7\n",
       "\\item 8.8\n",
       "\\item 8.8\n",
       "\\item 8.8\n",
       "\\item 8.8\n",
       "\\item 8.8\n",
       "\\item 8.9\n",
       "\\item 8.9\n",
       "\\item 9\n",
       "\\item 9.1\n",
       "\\item 9.1\n",
       "\\item 9.2\n",
       "\\item 9.2\n",
       "\\item 9.3\n",
       "\\item 9.4\n",
       "\\item 9.5\n",
       "\\item 9.6\n",
       "\\item 9.6\n",
       "\\item 10.2\n",
       "\\item 10.3\n",
       "\\item 10.3\n",
       "\\item 10.5\n",
       "\\item 10.5\n",
       "\\item 10.6\n",
       "\\item 10.7\n",
       "\\item 10.9\n",
       "\\item 11.3\n",
       "\\item 11.5\n",
       "\\item 11.8\n",
       "\\item 12.4\n",
       "\\item 12.7\n",
       "\\end{enumerate*}\n"
      ],
      "text/markdown": [
       "1. 5.7\n",
       "2. 6.2\n",
       "3. 7\n",
       "4. 7.1\n",
       "5. 7.6\n",
       "6. 7.7\n",
       "7. 7.8\n",
       "8. 7.8\n",
       "9. 7.9\n",
       "10. 8.2\n",
       "11. 8.3\n",
       "12. 8.4\n",
       "13. 8.6\n",
       "14. 8.7\n",
       "15. 8.8\n",
       "16. 8.8\n",
       "17. 8.8\n",
       "18. 8.8\n",
       "19. 8.8\n",
       "20. 8.9\n",
       "21. 8.9\n",
       "22. 9\n",
       "23. 9.1\n",
       "24. 9.1\n",
       "25. 9.2\n",
       "26. 9.2\n",
       "27. 9.3\n",
       "28. 9.4\n",
       "29. 9.5\n",
       "30. 9.6\n",
       "31. 9.6\n",
       "32. 10.2\n",
       "33. 10.3\n",
       "34. 10.3\n",
       "35. 10.5\n",
       "36. 10.5\n",
       "37. 10.6\n",
       "38. 10.7\n",
       "39. 10.9\n",
       "40. 11.3\n",
       "41. 11.5\n",
       "42. 11.8\n",
       "43. 12.4\n",
       "44. 12.7\n",
       "\n",
       "\n"
      ],
      "text/plain": [
       " [1]  5.7  6.2  7.0  7.1  7.6  7.7  7.8  7.8  7.9  8.2  8.3  8.4  8.6  8.7  8.8\n",
       "[16]  8.8  8.8  8.8  8.8  8.9  8.9  9.0  9.1  9.1  9.2  9.2  9.3  9.4  9.5  9.6\n",
       "[31]  9.6 10.2 10.3 10.3 10.5 10.5 10.6 10.7 10.9 11.3 11.5 11.8 12.4 12.7"
      ]
     },
     "metadata": {},
     "output_type": "display_data"
    }
   ],
   "source": [
    "sort(liste_wind)"
   ]
  },
  {
   "cell_type": "code",
   "execution_count": 3,
   "id": "42385116",
   "metadata": {},
   "outputs": [
    {
     "data": {
      "text/html": [
       "<style>\n",
       ".list-inline {list-style: none; margin:0; padding: 0}\n",
       ".list-inline>li {display: inline-block}\n",
       ".list-inline>li:not(:last-child)::after {content: \"\\00b7\"; padding: 0 .5ex}\n",
       "</style>\n",
       "<ol class=list-inline><li>5</li><li>6</li><li>7</li><li>8</li><li>9</li><li>10</li><li>11</li><li>12</li><li>13</li></ol>\n"
      ],
      "text/latex": [
       "\\begin{enumerate*}\n",
       "\\item 5\n",
       "\\item 6\n",
       "\\item 7\n",
       "\\item 8\n",
       "\\item 9\n",
       "\\item 10\n",
       "\\item 11\n",
       "\\item 12\n",
       "\\item 13\n",
       "\\end{enumerate*}\n"
      ],
      "text/markdown": [
       "1. 5\n",
       "2. 6\n",
       "3. 7\n",
       "4. 8\n",
       "5. 9\n",
       "6. 10\n",
       "7. 11\n",
       "8. 12\n",
       "9. 13\n",
       "\n",
       "\n"
      ],
      "text/plain": [
       "[1]  5  6  7  8  9 10 11 12 13"
      ]
     },
     "metadata": {},
     "output_type": "display_data"
    },
    {
     "data": {
      "text/html": [
       "<style>\n",
       ".list-inline {list-style: none; margin:0; padding: 0}\n",
       ".list-inline>li {display: inline-block}\n",
       ".list-inline>li:not(:last-child)::after {content: \"\\00b7\"; padding: 0 .5ex}\n",
       "</style>\n",
       "<ol class=list-inline><li>1</li><li>2</li><li>6</li><li>13</li><li>9</li><li>8</li><li>3</li><li>2</li></ol>\n"
      ],
      "text/latex": [
       "\\begin{enumerate*}\n",
       "\\item 1\n",
       "\\item 2\n",
       "\\item 6\n",
       "\\item 13\n",
       "\\item 9\n",
       "\\item 8\n",
       "\\item 3\n",
       "\\item 2\n",
       "\\end{enumerate*}\n"
      ],
      "text/markdown": [
       "1. 1\n",
       "2. 2\n",
       "3. 6\n",
       "4. 13\n",
       "5. 9\n",
       "6. 8\n",
       "7. 3\n",
       "8. 2\n",
       "\n",
       "\n"
      ],
      "text/plain": [
       "[1]  1  2  6 13  9  8  3  2"
      ]
     },
     "metadata": {},
     "output_type": "display_data"
    }
   ],
   "source": [
    "l = 1 #largeur des classes\n",
    "liste_classe = seq(5, 13, by=l)\n",
    "\n",
    "liste_comptage_classe = c()\n",
    "for (i in 1:length(liste_classe)-1) \n",
    "    {n = 0\n",
    "     borne_inf = liste_classe[i]\n",
    "     borne_sup = liste_classe[i+1]\n",
    "    for (x in liste_wind)\n",
    "        {if ((x> borne_inf) && (x<=borne_sup)) {n = n+1}\n",
    "        }\n",
    "     liste_comptage_classe[i] = n\n",
    "}\n",
    "liste_classe\n",
    "liste_comptage_classe"
   ]
  },
  {
   "cell_type": "code",
   "execution_count": 4,
   "id": "be0f2309-de6d-4e34-a6e5-d1542e9546cd",
   "metadata": {},
   "outputs": [
    {
     "data": {
      "image/png": "[encoded data removed]",
      "text/plain": [
       "Plot with title “Histogramme des vitesses de vent”"
      ]
     },
     "metadata": {
      "image/png": {
       "height": 480,
       "width": 960
      }
     },
     "output_type": "display_data"
    }
   ],
   "source": [
    "options(repr.plot.width = 16, repr.plot.height = 8) # Ne pas s'occuper de cette ligne, c'est juste un paramètre d'affichage\n",
    "\n",
    "hist(liste_wind, breaks = liste_classe,\n",
    "     main= \"Histogramme des vitesses de vent\", xlab= \"Vitesse\", ylab=\"Effectif\", \n",
    "     ylim=c(0, 13), xaxt=\"n\")\n",
    "axis(1, at = seq(5, 13, by = l), las=1)"
   ]
  },
  {
   "cell_type": "code",
   "execution_count": null,
   "id": "954b9851",
   "metadata": {},
   "outputs": [],
   "source": []
  }
 ],
 "metadata": {
  "kernelspec": {
   "display_name": "R",
   "language": "R",
   "name": "ir"
  },
  "language_info": {
   "codemirror_mode": "r",
   "file_extension": ".r",
   "mimetype": "text/x-r-source",
   "name": "R",
   "pygments_lexer": "r",
   "version": "3.6.1"
  }
 },
 "nbformat": 4,
 "nbformat_minor": 5
}
